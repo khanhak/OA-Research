{
 "cells": [
  {
   "cell_type": "code",
   "execution_count": 11,
   "metadata": {},
   "outputs": [],
   "source": [
    "import numpy as np\n",
    "import scipy.io as sio\n",
    "import os"
   ]
  },
  {
   "cell_type": "code",
   "execution_count": 12,
   "metadata": {},
   "outputs": [],
   "source": [
    "mask_path = \"C:\\\\Users\\\\15714\\\\Desktop\\\\OA Research\\\\24 Micron Data\\\\MasksEpi\"\n",
    "mask_files = [os.path.join(mask_path,i) for i in os.listdir(mask_path)]\n",
    "\n",
    "stacks_path = \"C:\\\\Users\\\\15714\\\\Desktop\\\\OA Research\\\\24 Micron Data\\\\Stacks\"\n",
    "stacks_files = [os.path.join(stacks_path,i) for i in os.listdir(stacks_path)]"
   ]
  },
  {
   "cell_type": "code",
   "execution_count": 13,
   "metadata": {},
   "outputs": [],
   "source": [
    "for file in mask_files:\n",
    "    temp = sio.loadmat(file)\n",
    "    temp = temp['bone']\n",
    "    np.save(str(file) + \".npy\",np.array(temp))"
   ]
  },
  {
   "cell_type": "code",
   "execution_count": 14,
   "metadata": {},
   "outputs": [],
   "source": [
    "for file in stacks_files:\n",
    "    temp = sio.loadmat(file)\n",
    "    temp = temp['stack']\n",
    "    np.save(str(file) + \".npy\",np.array(temp))"
   ]
  },
  {
   "cell_type": "code",
   "execution_count": 10,
   "metadata": {},
   "outputs": [
    {
     "data": {
      "text/plain": [
       "dict_keys(['__header__', '__version__', '__globals__', 'stack'])"
      ]
     },
     "execution_count": 10,
     "metadata": {},
     "output_type": "execute_result"
    }
   ],
   "source": [
    "temp.keys()"
   ]
  },
  {
   "cell_type": "code",
   "execution_count": null,
   "metadata": {},
   "outputs": [],
   "source": []
  }
 ],
 "metadata": {
  "kernelspec": {
   "display_name": "Python 3",
   "language": "python",
   "name": "python3"
  },
  "language_info": {
   "codemirror_mode": {
    "name": "ipython",
    "version": 3
   },
   "file_extension": ".py",
   "mimetype": "text/x-python",
   "name": "python",
   "nbconvert_exporter": "python",
   "pygments_lexer": "ipython3",
   "version": "3.7.6"
  }
 },
 "nbformat": 4,
 "nbformat_minor": 4
}
